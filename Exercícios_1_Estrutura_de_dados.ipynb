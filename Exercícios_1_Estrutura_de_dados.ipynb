{
  "nbformat": 4,
  "nbformat_minor": 0,
  "metadata": {
    "kernelspec": {
      "display_name": "Python 3",
      "language": "python",
      "name": "python3"
    },
    "language_info": {
      "codemirror_mode": {
        "name": "ipython",
        "version": 3
      },
      "file_extension": ".py",
      "mimetype": "text/x-python",
      "name": "python",
      "nbconvert_exporter": "python",
      "pygments_lexer": "ipython3",
      "version": "3.8.8"
    },
    "colab": {
      "name": "Exercícios #1 - Estrutura de dados.ipynb",
      "provenance": []
    }
  },
  "cells": [
    {
      "cell_type": "markdown",
      "metadata": {
        "id": "Ge8DscBDPj_c"
      },
      "source": [
        "__________________________________________\n",
        "## Exercícios #1 - Estruturas de dados\n"
      ]
    },
    {
      "cell_type": "markdown",
      "metadata": {
        "id": "913KX94QPj_n"
      },
      "source": [
        "### Exercício 1\n",
        "Utilizando o built-in method input(), crie um programa que receba a altura e o peso de uma pessoa e imprima na tela o IMC da mesma."
      ]
    },
    {
      "cell_type": "code",
      "metadata": {
        "colab": {
          "base_uri": "https://localhost:8080/"
        },
        "id": "50Gc34ClPj_o",
        "outputId": "1d03838f-b172-411e-f3b5-dc2242089b44"
      },
      "source": [
        "import time\n",
        "\n",
        "peso = int(input(\"Digite o seu peso: \"))\n",
        "altura = float(input(\"Digite a sua altura em centímetros: \"))\n",
        "\n",
        "imc = peso / altura * altura\n",
        "\n",
        "print(\"Calculando...\")\n",
        "time.sleep(3)\n",
        "print(\"----------------------\")\n",
        "\n",
        "print(f'O seu IMC eh: {imc}')"
      ],
      "execution_count": null,
      "outputs": [
        {
          "output_type": "stream",
          "name": "stdout",
          "text": [
            "Digite o seu peso: 10\n",
            "Digite a sua altura em centímetros: 184\n",
            "Calculando...\n",
            "----------------------\n",
            "O seu IMC eh: 10.0\n"
          ]
        }
      ]
    },
    {
      "cell_type": "markdown",
      "metadata": {
        "id": "841PxdiGPj_q"
      },
      "source": [
        "### Exercício 2 \n",
        "Escreva um programa que pergunte o nome completo do usuário e cumprimente o mesmo pelo primeiro nome."
      ]
    },
    {
      "cell_type": "code",
      "metadata": {
        "colab": {
          "base_uri": "https://localhost:8080/"
        },
        "id": "hA602PxzPj_r",
        "outputId": "30bfc278-cece-4ac1-a616-459885cfab2e"
      },
      "source": [
        "name = input('Digite o seu nome: ')\n",
        "\n",
        "print(f'Bom dia, {name.split()[0]}!')"
      ],
      "execution_count": null,
      "outputs": [
        {
          "output_type": "stream",
          "name": "stdout",
          "text": [
            "Digite o seu nome: Luís Gustavo\n",
            "Bom dia, Luís!\n"
          ]
        }
      ]
    },
    {
      "cell_type": "markdown",
      "metadata": {
        "id": "0G816NU0Pj_r"
      },
      "source": [
        "### Exercício 3\n",
        "Desenho um código que extraia o domínio de um e-mail informado."
      ]
    },
    {
      "cell_type": "code",
      "metadata": {
        "colab": {
          "base_uri": "https://localhost:8080/"
        },
        "id": "wSyMugJFPj_s",
        "outputId": "0f6e88b0-845a-4b56-8ade-d9561a9222e9"
      },
      "source": [
        "email = input(\"Digite o seu e-mail: \")\n",
        "\n",
        "print(f'{email.split(\"@\")[1]}')"
      ],
      "execution_count": null,
      "outputs": [
        {
          "output_type": "stream",
          "name": "stdout",
          "text": [
            "Digite o seu e-mail: email@gmail.com\n",
            "gmail.com\n"
          ]
        }
      ]
    },
    {
      "cell_type": "markdown",
      "metadata": {
        "id": "33P32H-9Pj_t"
      },
      "source": [
        "### Exercício 4 \n",
        "Faça um programa para uma loja de tintas. A pessoa informa a área em m2 que deseja pintar, e o script calculará a quantidade de latas de tinta que a pessoa deve comprar e o valor. Considere que cada litro de tinta pinta 3m2, que cada lata contém 18L e que custa R$ 80."
      ]
    },
    {
      "cell_type": "code",
      "metadata": {
        "colab": {
          "base_uri": "https://localhost:8080/"
        },
        "id": "XSlnhgVMPj_v",
        "outputId": "52ff2afe-9b07-4547-c418-3aeac793bc94"
      },
      "source": [
        "area = int(input(\"Digite a quantide de metros quadrados: \"))\n",
        "\n",
        "volume_necessario = area / 3\n",
        "latas = int(volume_necessario / 18)\n",
        "custo = latas * 80\n",
        "\n",
        "print(\"Você precisará de {} latas e elas custarão R$ {} reais.\".format(latas, custo))"
      ],
      "execution_count": null,
      "outputs": [
        {
          "output_type": "stream",
          "name": "stdout",
          "text": [
            "Digite a quantide de metros quadrados: 180\n",
            "Você precisará de 3 latas e elas custarão R$ 240 reais.\n"
          ]
        }
      ]
    },
    {
      "cell_type": "markdown",
      "metadata": {
        "id": "yQ4Yuf2cPj_v"
      },
      "source": [
        "### Exercício 5\n",
        "Faça um Programa que pergunte quanto você ganha por hora e o número de horas trabalhadas no mês. Calcule e mostre o total do seu salário no referido mês, sabendo-se que são descontados 11% para o Imposto de Renda, 8% para o INSS e 5% para o sindicato, faça um programa que nos dê:\n",
        "1. Salário bruto.\n",
        "2. Quanto pagou ao INSS.\n",
        "3. Quanto pagou ao sindicato.\n",
        "4. O salário líquido."
      ]
    },
    {
      "cell_type": "code",
      "metadata": {
        "colab": {
          "base_uri": "https://localhost:8080/"
        },
        "id": "gDOc4FRqPj_w",
        "outputId": "1da85531-52f4-43bc-b3cb-091c4ad57d63"
      },
      "source": [
        "salario_hora = float(input(\"Quanto você ganha por hora: \"))\n",
        "horas_mes = int(input(\"Quantidade de horas trabalhadas mensal: \"))\n",
        "\n",
        "salario = salario_hora * horas_mes\n",
        "\n",
        "ir = salario * 0.11\n",
        "inss = (salario - ir) * 0.08\n",
        "sindicato = (salario - ir - inss) * 0.05\n",
        " \n",
        "\n",
        "liquido =  salario - ir - inss - sindicato\n",
        "\n",
        "print(f'Salário bruto: R$ {salario:.2f}')\n",
        "print(f'IR: R$ {ir:.2f}')\n",
        "print(f'INSS: R$ {inss:.2f}')\n",
        "print(f'Sindicato: R$ {sindicato:.2f}')\n",
        "print(f'Salário líquido: R$ {liquido:.2f}')"
      ],
      "execution_count": null,
      "outputs": [
        {
          "output_type": "stream",
          "name": "stdout",
          "text": [
            "Quanto você ganha por hora: 20\n",
            "Quantidade de horas trabalhadas mensal: 160\n",
            "Salário bruto: R$ 3200.00\n",
            "IR: R$ 352.00\n",
            "INSS: R$ 227.84\n",
            "Sindicato: R$ 131.01\n",
            "Salário líquido: R$ 2489.15\n"
          ]
        }
      ]
    }
  ]
}