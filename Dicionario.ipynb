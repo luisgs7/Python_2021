{
  "nbformat": 4,
  "nbformat_minor": 0,
  "metadata": {
    "colab": {
      "name": "Dicionario.ipynb",
      "provenance": []
    },
    "kernelspec": {
      "name": "python3",
      "display_name": "Python 3"
    },
    "language_info": {
      "name": "python"
    }
  },
  "cells": [
    {
      "cell_type": "markdown",
      "metadata": {
        "id": "BaMGgJLJEhGN"
      },
      "source": [
        "# Dicionários"
      ]
    },
    {
      "cell_type": "code",
      "metadata": {
        "id": "WRs4EvsZCufW",
        "colab": {
          "base_uri": "https://localhost:8080/"
        },
        "outputId": "72971e01-414d-4236-f163-681dd1ab9efa"
      },
      "source": [
        "dicionario = {\"nome\": \"José\", \"idade\": 30, \"filhos\": [\"Lucas\", \"Pedro\"]}\n",
        "type(dicionario)"
      ],
      "execution_count": 1,
      "outputs": [
        {
          "output_type": "execute_result",
          "data": {
            "text/plain": [
              "dict"
            ]
          },
          "metadata": {},
          "execution_count": 1
        }
      ]
    },
    {
      "cell_type": "code",
      "metadata": {
        "colab": {
          "base_uri": "https://localhost:8080/"
        },
        "id": "Cno9SmrcFFcq",
        "outputId": "76ececbd-9442-4e27-d6fd-c6971a607bc2"
      },
      "source": [
        "dicionario['idade'] = 31\n",
        "dicionario"
      ],
      "execution_count": 3,
      "outputs": [
        {
          "output_type": "execute_result",
          "data": {
            "text/plain": [
              "{'filhos': ['Lucas', 'Pedro'], 'idade': 31, 'nome': 'José'}"
            ]
          },
          "metadata": {},
          "execution_count": 3
        }
      ]
    },
    {
      "cell_type": "code",
      "metadata": {
        "colab": {
          "base_uri": "https://localhost:8080/"
        },
        "id": "vA8qTagsFJ-p",
        "outputId": "d14fec33-3266-4b5f-977a-e8a1fb859ff5"
      },
      "source": [
        "dicionario[\"cidade\"] = \"São Paulo\"\n",
        "dicionario"
      ],
      "execution_count": 5,
      "outputs": [
        {
          "output_type": "execute_result",
          "data": {
            "text/plain": [
              "{'cidade': 'São Paulo',\n",
              " 'filhos': ['Lucas', 'Pedro'],\n",
              " 'idade': 31,\n",
              " 'nome': 'José'}"
            ]
          },
          "metadata": {},
          "execution_count": 5
        }
      ]
    },
    {
      "cell_type": "code",
      "metadata": {
        "colab": {
          "base_uri": "https://localhost:8080/"
        },
        "id": "cQdipBChFQ_x",
        "outputId": "bafc9e47-8b51-48e2-a2ee-f3721b1f3db3"
      },
      "source": [
        "dicionario[\"novo dicionario\"] = {\"a\": 1, \"b\": 2}\n",
        "dicionario"
      ],
      "execution_count": 7,
      "outputs": [
        {
          "output_type": "execute_result",
          "data": {
            "text/plain": [
              "{'cidade': 'São Paulo',\n",
              " 'filhos': ['Lucas', 'Pedro'],\n",
              " 'idade': 31,\n",
              " 'nome': 'José',\n",
              " 'novo dicionario': {'a': 1, 'b': 2}}"
            ]
          },
          "metadata": {},
          "execution_count": 7
        }
      ]
    },
    {
      "cell_type": "code",
      "metadata": {
        "colab": {
          "base_uri": "https://localhost:8080/"
        },
        "id": "HTvPN164FibA",
        "outputId": "5a2d505b-52d3-4ba7-bf39-cd6429655212"
      },
      "source": [
        "dicionario.keys()"
      ],
      "execution_count": 8,
      "outputs": [
        {
          "output_type": "execute_result",
          "data": {
            "text/plain": [
              "dict_keys(['nome', 'idade', 'filhos', 'cidade', 'novo dicionario'])"
            ]
          },
          "metadata": {},
          "execution_count": 8
        }
      ]
    },
    {
      "cell_type": "code",
      "metadata": {
        "colab": {
          "base_uri": "https://localhost:8080/"
        },
        "id": "f9RXMDidFqa7",
        "outputId": "061a941e-75ef-4c5b-9848-503530744221"
      },
      "source": [
        "dicionario.values()"
      ],
      "execution_count": 9,
      "outputs": [
        {
          "output_type": "execute_result",
          "data": {
            "text/plain": [
              "dict_values(['José', 31, ['Lucas', 'Pedro'], 'São Paulo', {'a': 1, 'b': 2}])"
            ]
          },
          "metadata": {},
          "execution_count": 9
        }
      ]
    },
    {
      "cell_type": "code",
      "metadata": {
        "colab": {
          "base_uri": "https://localhost:8080/"
        },
        "id": "RR9yavOXFsDA",
        "outputId": "0f7ac593-b772-4713-e802-630eb1446230"
      },
      "source": [
        "dicionario.items()"
      ],
      "execution_count": 10,
      "outputs": [
        {
          "output_type": "execute_result",
          "data": {
            "text/plain": [
              "dict_items([('nome', 'José'), ('idade', 31), ('filhos', ['Lucas', 'Pedro']), ('cidade', 'São Paulo'), ('novo dicionario', {'a': 1, 'b': 2})])"
            ]
          },
          "metadata": {},
          "execution_count": 10
        }
      ]
    }
  ]
}