{
  "nbformat": 4,
  "nbformat_minor": 0,
  "metadata": {
    "colab": {
      "name": "tupla.ipynb",
      "provenance": []
    },
    "kernelspec": {
      "name": "python3",
      "display_name": "Python 3"
    },
    "language_info": {
      "name": "python"
    }
  },
  "cells": [
    {
      "cell_type": "code",
      "metadata": {
        "colab": {
          "base_uri": "https://localhost:8080/"
        },
        "id": "sr_kRZkBGXTS",
        "outputId": "0859de31-7883-4942-80b3-5f4d369f0118"
      },
      "source": [
        "t = (1, 2, 3)\n",
        "t[1]"
      ],
      "execution_count": 1,
      "outputs": [
        {
          "output_type": "execute_result",
          "data": {
            "text/plain": [
              "2"
            ]
          },
          "metadata": {},
          "execution_count": 1
        }
      ]
    },
    {
      "cell_type": "code",
      "metadata": {
        "colab": {
          "base_uri": "https://localhost:8080/"
        },
        "id": "w3GpxGrkGxvI",
        "outputId": "279d7c32-a4aa-464c-ae75-34426c2a8bd7"
      },
      "source": [
        "t[:-1]"
      ],
      "execution_count": 2,
      "outputs": [
        {
          "output_type": "execute_result",
          "data": {
            "text/plain": [
              "(1, 2)"
            ]
          },
          "metadata": {},
          "execution_count": 2
        }
      ]
    },
    {
      "cell_type": "code",
      "metadata": {
        "colab": {
          "base_uri": "https://localhost:8080/"
        },
        "id": "BjId0zrFG7Je",
        "outputId": "7bbb3b74-e65d-487a-fe4e-58e412d9d67b"
      },
      "source": [
        "type(t)"
      ],
      "execution_count": 3,
      "outputs": [
        {
          "output_type": "execute_result",
          "data": {
            "text/plain": [
              "tuple"
            ]
          },
          "metadata": {},
          "execution_count": 3
        }
      ]
    },
    {
      "cell_type": "code",
      "metadata": {
        "colab": {
          "base_uri": "https://localhost:8080/"
        },
        "id": "b4Q7Aw63G9Su",
        "outputId": "11f50f55-ff3b-4b67-9c20-b8e9673cabaa"
      },
      "source": [
        "a, b = (1, 2)\n",
        "\n",
        "print(f'a = {a}\\nb = {b}')"
      ],
      "execution_count": 5,
      "outputs": [
        {
          "output_type": "stream",
          "name": "stdout",
          "text": [
            "a = 1\n",
            "b = 2\n"
          ]
        }
      ]
    }
  ]
}