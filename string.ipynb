{
  "nbformat": 4,
  "nbformat_minor": 0,
  "metadata": {
    "colab": {
      "name": "string.ipynb",
      "provenance": []
    },
    "kernelspec": {
      "name": "python3",
      "display_name": "Python 3"
    },
    "language_info": {
      "name": "python"
    }
  },
  "cells": [
    {
      "cell_type": "code",
      "metadata": {
        "id": "bGmObJ5Y3eTK"
      },
      "source": [
        "minha_string = \"Hello\""
      ],
      "execution_count": 3,
      "outputs": []
    },
    {
      "cell_type": "code",
      "metadata": {
        "colab": {
          "base_uri": "https://localhost:8080/",
          "height": 35
        },
        "id": "EWJkfyc_3_nM",
        "outputId": "a8521a91-c453-40bd-adb0-0650c00d4761"
      },
      "source": [
        "minha_string[:-1]"
      ],
      "execution_count": 4,
      "outputs": [
        {
          "output_type": "execute_result",
          "data": {
            "application/vnd.google.colaboratory.intrinsic+json": {
              "type": "string"
            },
            "text/plain": [
              "'Hell'"
            ]
          },
          "metadata": {},
          "execution_count": 4
        }
      ]
    },
    {
      "cell_type": "code",
      "metadata": {
        "colab": {
          "base_uri": "https://localhost:8080/",
          "height": 35
        },
        "id": "jX1BX8Uz4BFD",
        "outputId": "0cf9c13d-09db-41a4-e088-d055a1685889"
      },
      "source": [
        "minha_string[::]"
      ],
      "execution_count": 5,
      "outputs": [
        {
          "output_type": "execute_result",
          "data": {
            "application/vnd.google.colaboratory.intrinsic+json": {
              "type": "string"
            },
            "text/plain": [
              "'Hello'"
            ]
          },
          "metadata": {},
          "execution_count": 5
        }
      ]
    },
    {
      "cell_type": "code",
      "metadata": {
        "colab": {
          "base_uri": "https://localhost:8080/",
          "height": 35
        },
        "id": "NSoNocu24xRI",
        "outputId": "beaa216f-e238-43b5-a9e2-ed7673042aac"
      },
      "source": [
        "minha_string[::2]"
      ],
      "execution_count": 8,
      "outputs": [
        {
          "output_type": "execute_result",
          "data": {
            "application/vnd.google.colaboratory.intrinsic+json": {
              "type": "string"
            },
            "text/plain": [
              "'Hlo'"
            ]
          },
          "metadata": {},
          "execution_count": 8
        }
      ]
    },
    {
      "cell_type": "code",
      "metadata": {
        "colab": {
          "base_uri": "https://localhost:8080/"
        },
        "id": "iHyuVizf40Ik",
        "outputId": "f4d813af-6f44-415c-dbad-66829d062d26"
      },
      "source": [
        "len(minha_string)"
      ],
      "execution_count": 9,
      "outputs": [
        {
          "output_type": "execute_result",
          "data": {
            "text/plain": [
              "5"
            ]
          },
          "metadata": {},
          "execution_count": 9
        }
      ]
    },
    {
      "cell_type": "code",
      "metadata": {
        "colab": {
          "base_uri": "https://localhost:8080/"
        },
        "id": "DB9jh2wD5Kb8",
        "outputId": "ec7bdfaa-1df0-4db5-859f-227e75a0d256"
      },
      "source": [
        "type(minha_string)"
      ],
      "execution_count": 10,
      "outputs": [
        {
          "output_type": "execute_result",
          "data": {
            "text/plain": [
              "str"
            ]
          },
          "metadata": {},
          "execution_count": 10
        }
      ]
    },
    {
      "cell_type": "code",
      "metadata": {
        "colab": {
          "base_uri": "https://localhost:8080/",
          "height": 35
        },
        "id": "6oyxrpoY5QCw",
        "outputId": "fdd781aa-bf1b-42b7-e731-26df34a89023"
      },
      "source": [
        "\"hello\".upper()"
      ],
      "execution_count": 18,
      "outputs": [
        {
          "output_type": "execute_result",
          "data": {
            "application/vnd.google.colaboratory.intrinsic+json": {
              "type": "string"
            },
            "text/plain": [
              "'HELLO'"
            ]
          },
          "metadata": {},
          "execution_count": 18
        }
      ]
    },
    {
      "cell_type": "code",
      "metadata": {
        "colab": {
          "base_uri": "https://localhost:8080/",
          "height": 35
        },
        "id": "H0X0ibHM5gwK",
        "outputId": "c4e0cc85-0d23-462b-efe7-87481667f964"
      },
      "source": [
        "\"hello\".lower()"
      ],
      "execution_count": 19,
      "outputs": [
        {
          "output_type": "execute_result",
          "data": {
            "application/vnd.google.colaboratory.intrinsic+json": {
              "type": "string"
            },
            "text/plain": [
              "'hello'"
            ]
          },
          "metadata": {},
          "execution_count": 19
        }
      ]
    },
    {
      "cell_type": "code",
      "metadata": {
        "id": "t51IPYIT549w"
      },
      "source": [
        "a = \"hello\".split(\"l\")"
      ],
      "execution_count": 21,
      "outputs": []
    },
    {
      "cell_type": "code",
      "metadata": {
        "id": "gGHrJ7N-57rY"
      },
      "source": [
        "email = \"email@email.com\"\n",
        "#email.split(\"@\")"
      ],
      "execution_count": 25,
      "outputs": []
    },
    {
      "cell_type": "code",
      "metadata": {
        "colab": {
          "base_uri": "https://localhost:8080/",
          "height": 35
        },
        "id": "exaWXlqA5_kX",
        "outputId": "7a1b9eb8-75f1-4165-9e77-888e832407bf"
      },
      "source": [
        "idade = 10\n",
        "nome = \"Rodrigo\"\n",
        "\"Idade da pessoa é: {} e o nome é: {}\".format(idade, nome)"
      ],
      "execution_count": 27,
      "outputs": [
        {
          "output_type": "execute_result",
          "data": {
            "application/vnd.google.colaboratory.intrinsic+json": {
              "type": "string"
            },
            "text/plain": [
              "'Idade da pessoa é: 10 e o nome é: Rodrigo'"
            ]
          },
          "metadata": {},
          "execution_count": 27
        }
      ]
    },
    {
      "cell_type": "code",
      "metadata": {
        "colab": {
          "base_uri": "https://localhost:8080/",
          "height": 35
        },
        "id": "ogk-oL5h6j0I",
        "outputId": "74fa1ff4-5824-4520-b5bc-af52b78b4df1"
      },
      "source": [
        "idade = 10\n",
        "nome = \"Rodrigo\"\n",
        "\"Nome da pessoa é: {nm} e a idade é: {id}\".format(id=idade, nm=nome)"
      ],
      "execution_count": 29,
      "outputs": [
        {
          "output_type": "execute_result",
          "data": {
            "application/vnd.google.colaboratory.intrinsic+json": {
              "type": "string"
            },
            "text/plain": [
              "'Nome da pessoa é: Rodrigo e a idade é: 10'"
            ]
          },
          "metadata": {},
          "execution_count": 29
        }
      ]
    }
  ]
}